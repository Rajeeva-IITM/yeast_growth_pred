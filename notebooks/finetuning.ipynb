{
 "cells": [
  {
   "cell_type": "code",
   "execution_count": null,
   "metadata": {},
   "outputs": [],
   "source": [
    "import sys\n",
    "\n",
    "# sys.path.append(\"/home/rajeeva/Project/yeast_growth_pred/\")\n",
    "sys.path.append(\"/home/rajeeva/Project/yeast_growth_pred/main_code/FGR/\")\n",
    "from functools import partial\n",
    "\n",
    "import lightning as L\n",
    "import torch\n",
    "import torchmetrics\n",
    "\n",
    "# from rootutils import setup_root\n",
    "# setup_root(\"../\", indicator=\".project-root\", pythonpath=True)\n",
    "\n",
    "\n",
    "# torch.set_grad_enabled(True)\n",
    "torch.set_float32_matmul_precision(\"high\")"
   ]
  },
  {
   "cell_type": "code",
   "execution_count": null,
   "metadata": {},
   "outputs": [],
   "source": [
    "%cd ../"
   ]
  },
  {
   "cell_type": "code",
   "execution_count": null,
   "metadata": {},
   "outputs": [],
   "source": [
    "from finetuning_scheduler import FinetuningScheduler\n",
    "from lightning import Trainer\n",
    "\n",
    "from main_code.data import CancerKFoldModule\n",
    "from main_code.FGR.load_FGR import get_fgr_model\n",
    "from main_code.lightning_model import PhenoPredict\n",
    "from main_code.network import FGRNet"
   ]
  },
  {
   "cell_type": "code",
   "execution_count": null,
   "metadata": {},
   "outputs": [],
   "source": [
    "dm = CancerKFoldModule(\n",
    "    path=\"/home/rajeeva/Project/data/cancer/PRISM_19Q4_lung/reg/\",\n",
    "    split_seed=42,\n",
    "    num_splits=2,\n",
    "    batch_size=64,\n",
    "    num_workers=4,\n",
    "    test_size=0.2,\n",
    "    fgr=True,\n",
    "    latent_path=\"/home/rajeeva/Project/data/cancer/ChemGroup.parquet\",\n",
    ")\n",
    "dm.setup(stage=\"fit\")"
   ]
  },
  {
   "cell_type": "code",
   "execution_count": null,
   "metadata": {},
   "outputs": [],
   "source": [
    "# Model\n",
    "fgr_model = get_fgr_model(\"/home/rajeeva/Project/outputs/fgr_model_pretrain.pt\")\n",
    "# fgr_model.to(\"cuda:0\")\n",
    "# fgr_model"
   ]
  },
  {
   "cell_type": "code",
   "execution_count": null,
   "metadata": {},
   "outputs": [],
   "source": [
    "net = FGRNet(\n",
    "    fgr_model=fgr_model,\n",
    "    hidden_layers=[2048, 1024, 512, 256],\n",
    "    geno_size=18748,\n",
    "    latent_size=256,\n",
    "    output_size=1,\n",
    "    dropout=0.05,\n",
    "    activation=\"relu\",\n",
    ")"
   ]
  },
  {
   "cell_type": "code",
   "execution_count": null,
   "metadata": {},
   "outputs": [],
   "source": [
    "lm = PhenoPredict(\n",
    "    net=net,\n",
    "    optimizer=partial(\n",
    "        torch.optim.AdamW, lr=1e-3, weight_decay=0.01\n",
    "    ),  # torch.optim.AdamW(lr=1e-3, weight_decay=0.01),\n",
    "    scheduler=partial(\n",
    "        torch.optim.lr_scheduler.CosineAnnealingWarmRestarts,\n",
    "        T_0=10,\n",
    "    ),  # torch.optim.lr_scheduler.CosineAnnealingWarmRestarts(T_max=10),\n",
    "    loss_function=torch.nn.MSELoss(),\n",
    "    main_metric=torchmetrics.regression.MeanSquaredError(),\n",
    "    additional_metrics=torchmetrics.MetricCollection(torchmetrics.regression.MeanAbsoluteError()),\n",
    "    task=\"classification\",\n",
    "    compile=False,\n",
    ")\n",
    "# lm"
   ]
  },
  {
   "cell_type": "code",
   "execution_count": null,
   "metadata": {},
   "outputs": [],
   "source": [
    "fts_callback = FinetuningScheduler(ft_schedule=\"./configs/ft_schedule.yaml\")\n",
    "trainer = Trainer(\n",
    "    accelerator=\"gpu\", max_epochs=10, callbacks=[fts_callback], enable_checkpointing=False\n",
    ")"
   ]
  },
  {
   "cell_type": "code",
   "execution_count": null,
   "metadata": {},
   "outputs": [],
   "source": [
    "trainer.fit(lm, dm)"
   ]
  },
  {
   "cell_type": "code",
   "execution_count": null,
   "metadata": {},
   "outputs": [],
   "source": [
    "for param in lm.parameters():\n",
    "    print(param.requires_grad)"
   ]
  },
  {
   "cell_type": "code",
   "execution_count": null,
   "metadata": {},
   "outputs": [],
   "source": [
    "lm.dtype"
   ]
  },
  {
   "cell_type": "code",
   "execution_count": null,
   "metadata": {},
   "outputs": [],
   "source": [
    "for X, y in dm.train_dataloader():\n",
    "    print(X[0].requires_grad)\n",
    "    print(X[1].requires_grad)\n",
    "    print(y.requires_grad)\n",
    "    break"
   ]
  },
  {
   "cell_type": "code",
   "execution_count": null,
   "metadata": {},
   "outputs": [],
   "source": [
    "lm = lm.to(\"cpu\")"
   ]
  },
  {
   "cell_type": "code",
   "execution_count": null,
   "metadata": {},
   "outputs": [],
   "source": [
    "lm.model_step([X, y])[0].requires_grad"
   ]
  },
  {
   "cell_type": "code",
   "execution_count": null,
   "metadata": {},
   "outputs": [],
   "source": [
    "y.device"
   ]
  },
  {
   "cell_type": "code",
   "execution_count": null,
   "metadata": {},
   "outputs": [],
   "source": []
  }
 ],
 "metadata": {
  "kernelspec": {
   "display_name": "Python 3",
   "language": "python",
   "name": "python3"
  },
  "language_info": {
   "codemirror_mode": {
    "name": "ipython",
    "version": 3
   },
   "file_extension": ".py",
   "mimetype": "text/x-python",
   "name": "python",
   "nbconvert_exporter": "python",
   "pygments_lexer": "ipython3",
   "version": "3.11.7"
  }
 },
 "nbformat": 4,
 "nbformat_minor": 2
}
