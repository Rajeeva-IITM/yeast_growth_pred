{
 "cells": [
  {
   "cell_type": "code",
   "execution_count": null,
   "metadata": {},
   "outputs": [],
   "source": [
    "import sys\n",
    "\n",
    "import hydra\n",
    "import matplotlib.pyplot as plt\n",
    "import numpy as np\n",
    "import pandas as pd\n",
    "import seaborn as sns\n",
    "import torch\n",
    "from hydra import compose, initialize\n",
    "from lightning import Trainer\n",
    "from omegaconf import DictConfig, OmegaConf\n",
    "from rootutils import setup_root\n",
    "from sklearn.metrics import confusion_matrix\n",
    "from torchmetrics import AUROC, Accuracy, F1Score\n",
    "\n",
    "# setup_root(\"../\", indicator=\".project-root\", pythonpath=True)\n",
    "\n",
    "\n",
    "sys.path.append(\"/home/rajeeva/Project/yeast_growth_pred/\")\n",
    "sys.path.append(\"/home/rajeeva/Project/yeast_growth_pred/code/\")\n",
    "\n",
    "from main_code.data import CancerKFoldModule\n",
    "from main_code.lightning_model import NetMultiViewLightning\n",
    "from main_code.utils.plot_utils import predict, set_theme\n",
    "\n",
    "set_theme()\n",
    "pd.set_eng_float_format(accuracy=2)"
   ]
  },
  {
   "cell_type": "code",
   "execution_count": null,
   "metadata": {},
   "outputs": [],
   "source": [
    "def plot_confusion_matrix(\n",
    "    y, y_pred, title=\"Confusion matrix\", ax=None, cmap=plt.cm.Blues, titlesize=18\n",
    "):\n",
    "    cm = confusion_matrix(y, y_pred)\n",
    "\n",
    "    if ax is not None:\n",
    "        plot = sns.heatmap(cm, annot=True, cmap=cmap, fmt=\"d\", ax=ax, cbar=False)\n",
    "    else:\n",
    "        plot = sns.heatmap(cm, annot=True, cmap=cmap, fmt=\"d\", cbar=False)\n",
    "\n",
    "    ax.set_title(title, fontsize=titlesize)\n",
    "    plt.xlabel(\"Predicted\")\n",
    "    plt.ylabel(\"True\")\n",
    "\n",
    "    return plot"
   ]
  },
  {
   "cell_type": "code",
   "execution_count": null,
   "metadata": {},
   "outputs": [],
   "source": [
    "# intializing Hydra configs\n",
    "\n",
    "\n",
    "overrides = [\n",
    "    # \"data\\=cancer_data\"\n",
    "    \"train_data.ckpt=/storage/bt20d204/runs/multiview/Bloom2013_09_01_2024/Bloom2013-1-epoch\\=56_step\\=6783.ckpt\",  # noqa\n",
    "    # \"test_data.name=Bloom2013\",\n",
    "    # \"test_data.data_path=${paths.data_dir}/bloom2013_clf_3_pubchem.feather\",\n",
    "    \"device=cpu\",\n",
    "]\n",
    "\n",
    "\n",
    "with initialize(version_base=None, config_path=\"../configs/\"):\n",
    "    cfg = compose(config_name=\"eval\", overrides=overrides)\n",
    "\n",
    "print(OmegaConf.to_yaml(cfg))"
   ]
  },
  {
   "cell_type": "code",
   "execution_count": null,
   "metadata": {},
   "outputs": [],
   "source": [
    "# Intitializing the model\n",
    "\n",
    "model = NetMultiViewLightning.load_from_checkpoint(\n",
    "    \"../../runs/cancer/PRISM_1Q94_15_01_2024/PRISM_1Q94-0-epoch=97_step=644840.ckpt\",\n",
    "    map_location=cfg.device,\n",
    ")\n",
    "\n",
    "model.eval()"
   ]
  },
  {
   "cell_type": "code",
   "execution_count": null,
   "metadata": {},
   "outputs": [],
   "source": [
    "datamodule = CancerKFoldModule(path=\"../../data/cancer/PRISM_19Q4/\")\n",
    "datamodule.setup(stage=\"test\")"
   ]
  },
  {
   "cell_type": "code",
   "execution_count": null,
   "metadata": {},
   "outputs": [],
   "source": [
    "trainer = Trainer(accelerator=\"cpu\")\n",
    "\n",
    "datamodule.predict_dataloader = torch.utils.data.DataLoader(\n",
    "    datamodule.test_dataset,\n",
    "    batch_size=256,\n",
    "    num_workers=1,\n",
    "    shuffle=False,\n",
    "    drop_last=False,\n",
    "    pin_memory=True,\n",
    ")\n",
    "\n",
    "\n",
    "def predict_loader():\n",
    "    for batch in datamodule.predict_dataloader:\n",
    "        yield batch[0]\n",
    "\n",
    "\n",
    "# next(predict_loader())"
   ]
  },
  {
   "cell_type": "code",
   "execution_count": null,
   "metadata": {},
   "outputs": [],
   "source": [
    "predictions = trainer.predict(model, predict_loader())"
   ]
  },
  {
   "cell_type": "code",
   "execution_count": null,
   "metadata": {},
   "outputs": [],
   "source": [
    "predictions"
   ]
  },
  {
   "cell_type": "code",
   "execution_count": null,
   "metadata": {},
   "outputs": [],
   "source": [
    "train = cfg.train_data.name\n",
    "test = cfg.test_data.name\n",
    "filename = cfg.test_data.data_path"
   ]
  },
  {
   "cell_type": "code",
   "execution_count": null,
   "metadata": {},
   "outputs": [],
   "source": [
    "data = pd.read_feather(filename)\n",
    "strain = data.drop(columns=[\"Strain\"], inplace=True)\n",
    "variation_columns = [col for col in data.columns if col.startswith(\"Y\")]\n",
    "data.head()"
   ]
  },
  {
   "cell_type": "code",
   "execution_count": null,
   "metadata": {},
   "outputs": [],
   "source": [
    "# Defining metrics\n",
    "acc = Accuracy(task=\"binary\").to(cfg.device)\n",
    "auc = AUROC(task=\"binary\").to(cfg.device)\n",
    "f1 = F1Score(task=\"binary\").to(cfg.device)"
   ]
  },
  {
   "cell_type": "code",
   "execution_count": null,
   "metadata": {},
   "outputs": [],
   "source": [
    "results_df = pd.DataFrame(columns=[\"Compound\", \"Accuracy\", \"AUC\", \"F1\"])\n",
    "fig, axes = plt.subplots(5, 8, figsize=(16, 12), sharex=True, sharey=True, tight_layout=True)\n",
    "\n",
    "pred_dict = dict()\n",
    "\n",
    "for i, (key, ax) in enumerate(zip(data.Condition.unique(), axes.flatten())):\n",
    "    X = (\n",
    "        torch.tensor(\n",
    "            data.loc[data[\"Condition\"] == key].drop(columns=[\"Phenotype\", \"Condition\"]).values\n",
    "        )\n",
    "        .float()\n",
    "        .to(cfg.device)\n",
    "    )\n",
    "    y = torch.tensor(data.loc[data[\"Condition\"] == key][\"Phenotype\"].values).float().to(cfg.device)\n",
    "\n",
    "    y_pred = torch.sigmoid(model(X)).reshape(-1).detach()\n",
    "\n",
    "    acc_score = acc(y_pred, y)\n",
    "    auc_score = auc(y_pred, y)\n",
    "    f1_score = f1(y_pred, y)\n",
    "\n",
    "    print(f\"{key}\", end=\": \")\n",
    "    print(f\"Accuracy: {acc_score:.2f} | AUC: {auc_score:.2f} | F1: {f1_score:.2f}\")\n",
    "\n",
    "    pred_dict[key] = y_pred.numpy()\n",
    "    y_pred = np.rint(y_pred.numpy())\n",
    "\n",
    "    plot_confusion_matrix(y, y_pred, title=key, ax=ax, titlesize=10)\n",
    "\n",
    "    results_df.loc[i] = [key, acc_score, auc_score, f1_score]\n",
    "\n",
    "fig.supxlabel(\"Predicted\")\n",
    "fig.supylabel(\"True\")\n",
    "plt.suptitle(f\"{train} | {test}\")"
   ]
  },
  {
   "cell_type": "code",
   "execution_count": null,
   "metadata": {},
   "outputs": [],
   "source": [
    "results_df[[\"F1\", \"AUC\", \"Accuracy\"]] = results_df[[\"F1\", \"AUC\", \"Accuracy\"]].astype(float)\n",
    "results_df[\"Compound\"] = results_df[\"Compound\"].astype(str)"
   ]
  },
  {
   "cell_type": "code",
   "execution_count": null,
   "metadata": {},
   "outputs": [],
   "source": [
    "print(\n",
    "    results_df[[\"F1\", \"AUC\", \"Accuracy\"]].apply(\n",
    "        lambda x: str(x.mean()) + \" ± \" + str(x.std()), axis=0\n",
    "    )\n",
    ")"
   ]
  },
  {
   "cell_type": "code",
   "execution_count": null,
   "metadata": {},
   "outputs": [],
   "source": [
    "bloom_chemicals = [\n",
    "    \"diamide\",\n",
    "    \"formamide\",\n",
    "    \"MgCl2\",\n",
    "    \"CuSO4\",\n",
    "    \"etoh\",\n",
    "    \"CoCl2\",\n",
    "    \"trehalose\",\n",
    "    \"xylose\",\n",
    "    \"raffinose\",\n",
    "    \"lactate\",\n",
    "    \"neomycin\",\n",
    "    \"MnSO4\",\n",
    "    \"zeocin\",\n",
    "]\n",
    "\n",
    "bloom_2013_chemicals = np.array(\n",
    "    [\n",
    "        \"berbamine\",\n",
    "        \"cocl2\",\n",
    "        \"diamide\",\n",
    "        \"ethanol\",\n",
    "        \"formamide\",\n",
    "        \"hydroxyurea\",\n",
    "        \"lactate\",\n",
    "        \"lactose\",\n",
    "        \"menadione\",\n",
    "        \"mgcl2\",\n",
    "        \"indoleacetic_acid\",\n",
    "        \"neomycin\",\n",
    "        \"raffinose\",\n",
    "        \"trehalose\",\n",
    "        \"xylose\",\n",
    "        \"zeocin\",\n",
    "    ],\n",
    "    dtype=\"<U19\",\n",
    ")\n",
    "\n",
    "\n",
    "yticklabels = results_df.set_index(\"Compound\").sort_values(\"AUC\").index\n",
    "text_coloring = [\n",
    "    \"white\" if condition in bloom_chemicals else \"yellow\" for condition in yticklabels\n",
    "]"
   ]
  },
  {
   "cell_type": "code",
   "execution_count": null,
   "metadata": {},
   "outputs": [],
   "source": [
    "fig2, ax = plt.subplots(figsize=(6, 12))\n",
    "\n",
    "sns.heatmap(\n",
    "    results_df.set_index(\"Compound\").sort_values(\"AUC\"),\n",
    "    cmap=\"viridis\",\n",
    "    annot=True,\n",
    "    fmt=\".2f\",\n",
    "    vmin=0,\n",
    "    vmax=1,\n",
    ")\n",
    "plt.title(f\"{train} Model on {test}\", size=18)\n",
    "\n",
    "# plt.savefig(f\"../baselines/mutation_only/{train} on {test}.png\", dpi=300, transparent=True, bbox_inches='tight')\n",
    "\n",
    "for text in ax.get_yticklabels():\n",
    "    if text.get_text().lower() in bloom_2013_chemicals:\n",
    "        text.set(backgroundcolor=\"yellow\")\n",
    "    else:\n",
    "        text.set(backgroundcolor=\"white\")"
   ]
  },
  {
   "cell_type": "code",
   "execution_count": null,
   "metadata": {},
   "outputs": [],
   "source": []
  }
 ],
 "metadata": {
  "kernelspec": {
   "display_name": "Python 3",
   "language": "python",
   "name": "python3"
  },
  "language_info": {
   "codemirror_mode": {
    "name": "ipython",
    "version": 3
   },
   "file_extension": ".py",
   "mimetype": "text/x-python",
   "name": "python",
   "nbconvert_exporter": "python",
   "pygments_lexer": "ipython3",
   "version": "3.11.7"
  }
 },
 "nbformat": 4,
 "nbformat_minor": 2
}
