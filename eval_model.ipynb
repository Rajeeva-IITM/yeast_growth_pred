{
 "cells": [
  {
   "cell_type": "code",
   "execution_count": null,
   "metadata": {},
   "outputs": [],
   "source": [
    "import matplotlib.pyplot as plt\n",
    "import numpy as np\n",
    "import pandas as pd\n",
    "import polars as pl\n",
    "import seaborn as sns\n",
    "import torch\n",
    "from torchmetrics import MeanSquaredError, R2Score\n",
    "\n",
    "from src.data import KFoldEncodeModule\n",
    "from src.utils.plot_utils import predict, set_theme\n",
    "\n",
    "set_theme()\n",
    "pd.set_eng_float_format(accuracy=2)"
   ]
  },
  {
   "cell_type": "code",
   "execution_count": null,
   "metadata": {},
   "outputs": [],
   "source": [
    "from src.lightning_model import Netlightning\n",
    "\n",
    "model = Netlightning.load_from_checkpoint(\n",
    "    \"../runs/regression_bloom/bloom2015_reg/bloom2015_reg-2epoch=36-step=58460.ckpt\",\n",
    "    loss_function=\"mse\",\n",
    ")\n",
    "model.eval()"
   ]
  },
  {
   "cell_type": "code",
   "execution_count": null,
   "metadata": {},
   "outputs": [],
   "source": [
    "train = \"Bloom2015\"\n",
    "test = \"Bloom2013\"\n",
    "filename = \"../data/regression_data/bloom2013_regression.feather\""
   ]
  },
  {
   "cell_type": "code",
   "execution_count": null,
   "metadata": {},
   "outputs": [],
   "source": [
    "data = pd.read_feather(filename)\n",
    "data.drop(columns=[\"Strain\"], inplace=True)\n",
    "variation_columns = [col for col in data.columns if col.startswith(\"Y\")]\n",
    "data.head()"
   ]
  },
  {
   "cell_type": "code",
   "execution_count": null,
   "metadata": {},
   "outputs": [],
   "source": [
    "from sklearn.model_selection import train_test_split\n",
    "\n",
    "_, test_data = train_test_split(data, test_size=0.2, random_state=42)"
   ]
  },
  {
   "cell_type": "code",
   "execution_count": null,
   "metadata": {},
   "outputs": [],
   "source": [
    "results_df = pd.DataFrame(columns=[\"Compound\", \"MSE\", \"R-squared\"])\n",
    "\n",
    "# fig, axes = plt.subplots(5, 8, figsize=(16,12), sharex=True, sharey=True, tight_layout=True)\n",
    "\n",
    "pred_dict = dict()\n",
    "mse = MeanSquaredError()\n",
    "r2 = R2Score()\n",
    "\n",
    "for i, key in enumerate(test_data.Condition.unique()):\n",
    "    condition_test = test_data[test_data[\"Condition\"] == key]\n",
    "    X = torch.tensor(condition_test.drop([\"Condition\", \"Phenotype\"], axis=1).values).float()\n",
    "    y = torch.tensor(condition_test[\"Phenotype\"].values).float().unsqueeze(1)\n",
    "\n",
    "    y_pred = predict(model, X).to(\"cpu\")\n",
    "\n",
    "    mse_val = mse(y_pred, y).detach().item()\n",
    "    r2_val = r2(y_pred, y).detach().item()\n",
    "\n",
    "    print(f\"{key}\", end=\": \")\n",
    "    print(f\"MSE:  {mse_val:.2f}\", \" | \", f\"R2: , {r2_val:.2f}\")\n",
    "\n",
    "    pred_dict[key] = y_pred.reshape(-1).detach().numpy()\n",
    "\n",
    "    results_df.loc[i] = [key, mse_val, r2_val]"
   ]
  },
  {
   "cell_type": "code",
   "execution_count": null,
   "metadata": {},
   "outputs": [],
   "source": [
    "results_df[\"Compound\"] = results_df[\"Compound\"].astype(str)\n",
    "print(\n",
    "    results_df[[\"MSE\", \"R-squared\"]].apply(lambda x: str(x.mean()) + \" ± \" + str(x.std()), axis=0)\n",
    ")"
   ]
  },
  {
   "cell_type": "code",
   "execution_count": null,
   "metadata": {},
   "outputs": [],
   "source": [
    "fig2, ax = plt.subplots(1, 2, figsize=(8, 10), sharey=True, tight_layout=True)\n",
    "\n",
    "sns.heatmap(\n",
    "    results_df.set_index(\"Compound\").drop([\"MSE\"], axis=1).sort_values(\"R-squared\"),\n",
    "    cmap=\"viridis\",\n",
    "    annot=True,\n",
    "    fmt=\".2f\",\n",
    "    ax=ax[0],\n",
    ")\n",
    "sns.heatmap(\n",
    "    results_df.set_index(\"Compound\").sort_values(\"R-squared\").drop([\"R-squared\"], axis=1),\n",
    "    cmap=\"viridis\",\n",
    "    annot=True,\n",
    "    fmt=\".2f\",\n",
    "    ax=ax[1],\n",
    ")\n",
    "\n",
    "bloom_2013_chemicals = np.array(\n",
    "    [\n",
    "        \"berbamine\",\n",
    "        \"cocl2\",\n",
    "        \"diamide\",\n",
    "        \"ethanol\",\n",
    "        \"formamide\",\n",
    "        \"hydroxyurea\",\n",
    "        \"lactate\",\n",
    "        \"lactose\",\n",
    "        \"menadione\",\n",
    "        \"mgcl2\",\n",
    "        \"indoleacetic_acid\",\n",
    "        \"neomycin\",\n",
    "        \"raffinose\",\n",
    "        \"trehalose\",\n",
    "        \"xylose\",\n",
    "        \"zeocin\",\n",
    "    ],\n",
    "    dtype=\"<U19\",\n",
    ")\n",
    "\n",
    "for text in ax[0].get_yticklabels():\n",
    "    if text.get_text().lower() in bloom_2013_chemicals:\n",
    "        text.set(backgroundcolor=\"yellow\")\n",
    "    else:\n",
    "        text.set(backgroundcolor=\"white\")\n",
    "plt.suptitle(f\"{train} Model on {test} - Regression\", size=18)"
   ]
  },
  {
   "cell_type": "code",
   "execution_count": null,
   "metadata": {},
   "outputs": [],
   "source": [
    "fig, ax = plt.subplots(figsize=(8, 6), tight_layout=True)\n",
    "\n",
    "condition = \"CoCl2\"\n",
    "sns.scatterplot(\n",
    "    x=test_data[test_data[\"Condition\"] == condition][\"Phenotype\"], y=pred_dict[condition]\n",
    ")\n",
    "ax.set_ylabel(\"Predicted\")\n",
    "ax.set_xlabel(\"True\")"
   ]
  },
  {
   "cell_type": "code",
   "execution_count": null,
   "metadata": {},
   "outputs": [],
   "source": [
    "sns.histplot(x=data[data[\"Condition\"] == condition][\"Phenotype\"], bins=50, color=\"cornflowerblue\")\n",
    "plt.title(\"Histogram of phenotype values\")"
   ]
  },
  {
   "cell_type": "code",
   "execution_count": null,
   "metadata": {},
   "outputs": [],
   "source": [
    "sns.histplot(\n",
    "    x=test_data[test_data[\"Condition\"] == condition][\"Phenotype\"], bins=50, color=\"cornflowerblue\"\n",
    ")\n",
    "plt.title(\"Histogram of phenotype values - Test Set\")"
   ]
  },
  {
   "cell_type": "code",
   "execution_count": null,
   "metadata": {},
   "outputs": [],
   "source": []
  }
 ],
 "metadata": {
  "kernelspec": {
   "display_name": "Python 3",
   "language": "python",
   "name": "python3"
  },
  "language_info": {
   "codemirror_mode": {
    "name": "ipython",
    "version": 3
   },
   "file_extension": ".py",
   "mimetype": "text/x-python",
   "name": "python",
   "nbconvert_exporter": "python",
   "pygments_lexer": "ipython3",
   "version": "3.11.4"
  }
 },
 "nbformat": 4,
 "nbformat_minor": 2
}
