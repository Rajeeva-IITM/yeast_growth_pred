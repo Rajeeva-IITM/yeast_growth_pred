{
 "cells": [
  {
   "cell_type": "code",
   "execution_count": null,
   "metadata": {
    "executionInfo": {
     "elapsed": 16274,
     "status": "ok",
     "timestamp": 1704952435062,
     "user": {
      "displayName": "Reguna Madhan Rajeeva Lokshanan bt20d204",
      "userId": "02226610465040792273"
     },
     "user_tz": -330
    },
    "id": "cYouMmoZ-dPN"
   },
   "outputs": [],
   "source": [
    "import os\n",
    "from typing import List\n",
    "\n",
    "import numpy as np\n",
    "import pandas as pd\n",
    "import torch\n",
    "from rdkit.Chem.rdmolfiles import MolFromSmarts\n",
    "from tokenizers import Tokenizer\n",
    "\n",
    "from src.data.components.utils import (\n",
    "    smiles2vector_fg,\n",
    "    smiles2vector_mfg,\n",
    "    standardize_smiles,\n",
    ")\n",
    "from src.models.fgr_module import FGRPretrainLitModule"
   ]
  },
  {
   "cell_type": "code",
   "execution_count": null,
   "metadata": {
    "colab": {
     "base_uri": "https://localhost:8080/"
    },
    "executionInfo": {
     "elapsed": 30236,
     "status": "ok",
     "timestamp": 1704952487050,
     "user": {
      "displayName": "Reguna Madhan Rajeeva Lokshanan bt20d204",
      "userId": "02226610465040792273"
     },
     "user_tz": -330
    },
    "id": "JdZ2f-41-dPT",
    "outputId": "6ad396b5-79d0-42ae-96eb-013a7fadb9f1"
   },
   "outputs": [],
   "source": [
    "model = FGRPretrainLitModule.load_from_checkpoint(\"./epoch_000_val_0.8505.ckpt\")\n",
    "model.eval();"
   ]
  },
  {
   "cell_type": "code",
   "execution_count": null,
   "metadata": {
    "executionInfo": {
     "elapsed": 1323,
     "status": "ok",
     "timestamp": 1704952488358,
     "user": {
      "displayName": "Reguna Madhan Rajeeva Lokshanan bt20d204",
      "userId": "02226610465040792273"
     },
     "user_tz": -330
    },
    "id": "-uPBAWgP-dPT"
   },
   "outputs": [],
   "source": [
    "fgroups = pd.read_parquet(\"fg.parquet\")[\"SMARTS\"].tolist()  # Get functional groups\n",
    "fgroups_list = [MolFromSmarts(x) for x in fgroups]  # Convert to RDKit Mol\n",
    "tokenizer = Tokenizer.from_file(\n",
    "    os.path.join(\n",
    "        \"tokenizers\",\n",
    "        f\"BPE_pubchem_{500}.json\",\n",
    "    )\n",
    ")  # Load tokenizer"
   ]
  },
  {
   "cell_type": "code",
   "execution_count": null,
   "metadata": {
    "executionInfo": {
     "elapsed": 9,
     "status": "ok",
     "timestamp": 1704952488359,
     "user": {
      "displayName": "Reguna Madhan Rajeeva Lokshanan bt20d204",
      "userId": "02226610465040792273"
     },
     "user_tz": -330
    },
    "id": "l-Zj0SRw-dPT"
   },
   "outputs": [],
   "source": [
    "def get_representation(\n",
    "    smiles: List[str],\n",
    "    method: str,\n",
    "    fgroups_list: List[MolFromSmarts],\n",
    "    tokenizer: Tokenizer,\n",
    ") -> np.ndarray:\n",
    "    smiles = [standardize_smiles(smi) for smi in smiles]  # Standardize smiles\n",
    "    if method == \"FG\":\n",
    "        x = np.stack([smiles2vector_fg(x, fgroups_list) for x in smiles])\n",
    "    elif method == \"MFG\":\n",
    "        x = np.stack([smiles2vector_mfg(x, tokenizer) for x in smiles])\n",
    "    elif method == \"FGR\":\n",
    "        f_g = np.stack([smiles2vector_fg(x, fgroups_list) for x in smiles])\n",
    "        mfg = np.stack([smiles2vector_mfg(x, tokenizer) for x in smiles])\n",
    "        x = np.concatenate((f_g, mfg), axis=1)  # Concatenate both vectors\n",
    "    else:\n",
    "        raise ValueError(\"Method not supported\")  # Raise error if method not supported\n",
    "    return x"
   ]
  },
  {
   "cell_type": "code",
   "execution_count": null,
   "metadata": {
    "executionInfo": {
     "elapsed": 632,
     "status": "ok",
     "timestamp": 1704952488984,
     "user": {
      "displayName": "Reguna Madhan Rajeeva Lokshanan bt20d204",
      "userId": "02226610465040792273"
     },
     "user_tz": -330
    },
    "id": "_qBDD3ZU-dPU"
   },
   "outputs": [],
   "source": [
    "x = get_representation(\n",
    "    [\"CC(C)(C)NCC(O)c1cc(Cl)c(N)c(c1)C(F)(F)F\", \"CCN\", \"CCF\"], \"FGR\", fgroups_list, tokenizer\n",
    ")\n",
    "x = torch.tensor(x, dtype=torch.float32, device=model.device)\n",
    "z_d = model(x)"
   ]
  },
  {
   "cell_type": "code",
   "execution_count": null,
   "metadata": {
    "colab": {
     "base_uri": "https://localhost:8080/"
    },
    "executionInfo": {
     "elapsed": 10,
     "status": "ok",
     "timestamp": 1704952488984,
     "user": {
      "displayName": "Reguna Madhan Rajeeva Lokshanan bt20d204",
      "userId": "02226610465040792273"
     },
     "user_tz": -330
    },
    "id": "cXV0xpE2KKAh",
    "outputId": "f98f96bc-4e45-4baa-eeba-380758fae3bf"
   },
   "outputs": [],
   "source": [
    "z_d[0].shape"
   ]
  },
  {
   "cell_type": "code",
   "execution_count": null,
   "metadata": {
    "colab": {
     "base_uri": "https://localhost:8080/",
     "height": 424
    },
    "executionInfo": {
     "elapsed": 793,
     "status": "ok",
     "timestamp": 1704952489772,
     "user": {
      "displayName": "Reguna Madhan Rajeeva Lokshanan bt20d204",
      "userId": "02226610465040792273"
     },
     "user_tz": -330
    },
    "id": "4Xj2kF5_EUGO",
    "outputId": "80b9f3a8-70cb-4efa-da04-1548e717e180"
   },
   "outputs": [],
   "source": [
    "df = pd.read_csv(\"./PRISM_19Q4_chemicals.csv\")\n",
    "df"
   ]
  },
  {
   "cell_type": "code",
   "execution_count": null,
   "metadata": {
    "executionInfo": {
     "elapsed": 2,
     "status": "ok",
     "timestamp": 1704952489772,
     "user": {
      "displayName": "Reguna Madhan Rajeeva Lokshanan bt20d204",
      "userId": "02226610465040792273"
     },
     "user_tz": -330
    },
    "id": "fOPKjr9sEaZ2"
   },
   "outputs": [],
   "source": [
    "all_smiles = df[df.name != \"tyloxapol\"][\"smiles_cleaned\"].to_list()"
   ]
  },
  {
   "cell_type": "code",
   "execution_count": null,
   "metadata": {
    "colab": {
     "base_uri": "https://localhost:8080/"
    },
    "executionInfo": {
     "elapsed": 200702,
     "status": "ok",
     "timestamp": 1704952690472,
     "user": {
      "displayName": "Reguna Madhan Rajeeva Lokshanan bt20d204",
      "userId": "02226610465040792273"
     },
     "user_tz": -330
    },
    "id": "M1ixqi_kEx5O",
    "outputId": "e2579e2a-d093-4d6f-f467-99f83dbda662"
   },
   "outputs": [],
   "source": [
    "rep = get_representation(all_smiles, \"FGR\", fgroups_list, tokenizer)\n",
    "rep_x = torch.tensor(rep, dtype=torch.float32, device=model.device)\n",
    "z_d = model(rep_x)[0]"
   ]
  },
  {
   "cell_type": "code",
   "execution_count": null,
   "metadata": {
    "executionInfo": {
     "elapsed": 18,
     "status": "ok",
     "timestamp": 1704952690472,
     "user": {
      "displayName": "Reguna Madhan Rajeeva Lokshanan bt20d204",
      "userId": "02226610465040792273"
     },
     "user_tz": -330
    },
    "id": "XvnB-AW2E2Cm"
   },
   "outputs": [],
   "source": [
    "# rep = []\n",
    "# correct_smiles = []\n",
    "# error = []\n",
    "# for i, smile in enumerate(all_smiles):\n",
    "#     try:\n",
    "#         rep.append(get_representation([smile], \"FGR\", fgroups_list, tokenizer))\n",
    "#         correct_smiles.append(smile)\n",
    "#     except:\n",
    "#         error.append(smile)"
   ]
  },
  {
   "cell_type": "code",
   "execution_count": null,
   "metadata": {
    "colab": {
     "base_uri": "https://localhost:8080/"
    },
    "executionInfo": {
     "elapsed": 16,
     "status": "ok",
     "timestamp": 1704952690473,
     "user": {
      "displayName": "Reguna Madhan Rajeeva Lokshanan bt20d204",
      "userId": "02226610465040792273"
     },
     "user_tz": -330
    },
    "id": "ua_3uiuYG50U",
    "outputId": "4d3b01c9-d289-43de-e9fd-3ddf6eb63a14"
   },
   "outputs": [],
   "source": [
    "len(rep)"
   ]
  },
  {
   "cell_type": "code",
   "execution_count": null,
   "metadata": {
    "executionInfo": {
     "elapsed": 415,
     "status": "ok",
     "timestamp": 1704952711027,
     "user": {
      "displayName": "Reguna Madhan Rajeeva Lokshanan bt20d204",
      "userId": "02226610465040792273"
     },
     "user_tz": -330
    },
    "id": "PlQcU5MOG-ET"
   },
   "outputs": [],
   "source": [
    "# error_df = df[~df['smiles_cleaned'].isin(correct_smiles)]\n",
    "# error_df"
   ]
  },
  {
   "cell_type": "code",
   "execution_count": null,
   "metadata": {
    "colab": {
     "base_uri": "https://localhost:8080/"
    },
    "executionInfo": {
     "elapsed": 8,
     "status": "ok",
     "timestamp": 1704952713823,
     "user": {
      "displayName": "Reguna Madhan Rajeeva Lokshanan bt20d204",
      "userId": "02226610465040792273"
     },
     "user_tz": -330
    },
    "id": "n83b5jyZMbK2",
    "outputId": "68246029-c6a9-4021-f334-c07db6ae0267"
   },
   "outputs": [],
   "source": [
    "len(all_smiles)"
   ]
  },
  {
   "cell_type": "code",
   "execution_count": null,
   "metadata": {
    "executionInfo": {
     "elapsed": 1,
     "status": "ok",
     "timestamp": 1704952715606,
     "user": {
      "displayName": "Reguna Madhan Rajeeva Lokshanan bt20d204",
      "userId": "02226610465040792273"
     },
     "user_tz": -330
    },
    "id": "F_kFffeXkivs"
   },
   "outputs": [],
   "source": [
    "latent_df = pd.DataFrame(\n",
    "    data=z_d.detach().numpy(),\n",
    "    columns=[f\"latent_{i}\" for i in range(256)],\n",
    ")\n",
    "# latent_df = pd.concat((df[df.name!=\"tyloxapol\"][['name', 'smiles_cleaned']].dropna(axis=0), latent_df),\n",
    "#   ignore_index=True, axis =1)"
   ]
  },
  {
   "cell_type": "code",
   "execution_count": null,
   "metadata": {
    "colab": {
     "base_uri": "https://localhost:8080/",
     "height": 444
    },
    "executionInfo": {
     "elapsed": 429,
     "status": "ok",
     "timestamp": 1704952721366,
     "user": {
      "displayName": "Reguna Madhan Rajeeva Lokshanan bt20d204",
      "userId": "02226610465040792273"
     },
     "user_tz": -330
    },
    "id": "jZDxqpc8nQVg",
    "outputId": "083ac3ff-ec01-4bd6-8a91-d80ed4d7ff0f"
   },
   "outputs": [],
   "source": [
    "latent_df"
   ]
  },
  {
   "cell_type": "code",
   "execution_count": null,
   "metadata": {
    "executionInfo": {
     "elapsed": 4,
     "status": "ok",
     "timestamp": 1704952990756,
     "user": {
      "displayName": "Reguna Madhan Rajeeva Lokshanan bt20d204",
      "userId": "02226610465040792273"
     },
     "user_tz": -330
    },
    "id": "QfPH9K51HGFK"
   },
   "outputs": [],
   "source": [
    "import seaborn as sns\n",
    "from sklearn.preprocessing import MinMaxScaler"
   ]
  },
  {
   "cell_type": "code",
   "execution_count": null,
   "metadata": {
    "colab": {
     "base_uri": "https://localhost:8080/",
     "height": 466
    },
    "executionInfo": {
     "elapsed": 5244,
     "status": "ok",
     "timestamp": 1704953017545,
     "user": {
      "displayName": "Reguna Madhan Rajeeva Lokshanan bt20d204",
      "userId": "02226610465040792273"
     },
     "user_tz": -330
    },
    "id": "D2h6JLUpGmer",
    "outputId": "0fe03f5e-024c-4c96-a38b-7209f4128a63"
   },
   "outputs": [],
   "source": [
    "sns.heatmap(MinMaxScaler().fit_transform(latent_df))"
   ]
  },
  {
   "cell_type": "code",
   "execution_count": null,
   "metadata": {
    "executionInfo": {
     "elapsed": 396,
     "status": "ok",
     "timestamp": 1704953065845,
     "user": {
      "displayName": "Reguna Madhan Rajeeva Lokshanan bt20d204",
      "userId": "02226610465040792273"
     },
     "user_tz": -330
    },
    "id": "85hxaGSMnSGw"
   },
   "outputs": [],
   "source": [
    "final_df = df[df.name != \"tyloxapol\"].reset_index().drop(\"index\", axis=1)"
   ]
  },
  {
   "cell_type": "code",
   "execution_count": null,
   "metadata": {
    "colab": {
     "base_uri": "https://localhost:8080/",
     "height": 424
    },
    "executionInfo": {
     "elapsed": 398,
     "status": "ok",
     "timestamp": 1704953071554,
     "user": {
      "displayName": "Reguna Madhan Rajeeva Lokshanan bt20d204",
      "userId": "02226610465040792273"
     },
     "user_tz": -330
    },
    "id": "74OvvuVBnZmg",
    "outputId": "fcc85739-9cda-4f58-96bf-a8d712a58c1b"
   },
   "outputs": [],
   "source": [
    "final_df"
   ]
  },
  {
   "cell_type": "code",
   "execution_count": null,
   "metadata": {
    "colab": {
     "base_uri": "https://localhost:8080/",
     "height": 444
    },
    "executionInfo": {
     "elapsed": 410,
     "status": "ok",
     "timestamp": 1704953075531,
     "user": {
      "displayName": "Reguna Madhan Rajeeva Lokshanan bt20d204",
      "userId": "02226610465040792273"
     },
     "user_tz": -330
    },
    "id": "sfRGrGzsxf3Z",
    "outputId": "1b83efed-31e0-4455-e372-2c54cac161e0"
   },
   "outputs": [],
   "source": [
    "final_df = final_df.join(latent_df).drop(\"smiles\", axis=1)\n",
    "final_df"
   ]
  },
  {
   "cell_type": "code",
   "execution_count": null,
   "metadata": {
    "executionInfo": {
     "elapsed": 2829,
     "status": "ok",
     "timestamp": 1704953092632,
     "user": {
      "displayName": "Reguna Madhan Rajeeva Lokshanan bt20d204",
      "userId": "02226610465040792273"
     },
     "user_tz": -330
    },
    "id": "AVe14IHk3Ve7"
   },
   "outputs": [],
   "source": [
    "final_df.to_csv(\"PRSIM_19Q4_latent.csv\", index=False)"
   ]
  },
  {
   "cell_type": "code",
   "execution_count": null,
   "metadata": {
    "colab": {
     "base_uri": "https://localhost:8080/"
    },
    "executionInfo": {
     "elapsed": 382,
     "status": "ok",
     "timestamp": 1704953097217,
     "user": {
      "displayName": "Reguna Madhan Rajeeva Lokshanan bt20d204",
      "userId": "02226610465040792273"
     },
     "user_tz": -330
    },
    "id": "zlXKOBUU6qEw",
    "outputId": "35135c6f-b565-47ce-9ad1-b5fa1239dfe6"
   },
   "outputs": [],
   "source": [
    "rep.shape"
   ]
  },
  {
   "cell_type": "code",
   "execution_count": null,
   "metadata": {
    "colab": {
     "base_uri": "https://localhost:8080/"
    },
    "executionInfo": {
     "elapsed": 7,
     "status": "ok",
     "timestamp": 1704779263302,
     "user": {
      "displayName": "Reguna Madhan Rajeeva Lokshanan bt20d204",
      "userId": "02226610465040792273"
     },
     "user_tz": -330
    },
    "id": "eCgNnv6svypr",
    "outputId": "f51fbe22-d56a-4e97-8a9a-7ddd847b7386"
   },
   "outputs": [],
   "source": [
    "rep[4].sum()"
   ]
  },
  {
   "cell_type": "code",
   "execution_count": null,
   "metadata": {
    "colab": {
     "base_uri": "https://localhost:8080/",
     "height": 447
    },
    "executionInfo": {
     "elapsed": 67557,
     "status": "ok",
     "timestamp": 1704953357231,
     "user": {
      "displayName": "Reguna Madhan Rajeeva Lokshanan bt20d204",
      "userId": "02226610465040792273"
     },
     "user_tz": -330
    },
    "id": "qVTJI4UrwuHC",
    "outputId": "8f056fca-a647-4d0c-cbaa-e39c501db481"
   },
   "outputs": [],
   "source": [
    "from umap import UMAP\n",
    "\n",
    "embedder = UMAP()\n",
    "embedding = embedder.fit_transform(latent_df)"
   ]
  },
  {
   "cell_type": "code",
   "execution_count": null,
   "metadata": {
    "colab": {
     "base_uri": "https://localhost:8080/",
     "height": 447
    },
    "executionInfo": {
     "elapsed": 4564,
     "status": "ok",
     "timestamp": 1704953405632,
     "user": {
      "displayName": "Reguna Madhan Rajeeva Lokshanan bt20d204",
      "userId": "02226610465040792273"
     },
     "user_tz": -330
    },
    "id": "dxSPB24cIpcH",
    "outputId": "7fd3059d-b497-4ef1-f6aa-d1c6fb37d668"
   },
   "outputs": [],
   "source": [
    "sns.scatterplot(x=embedding[:, 0], y=embedding[:, 1], hue=final_df.index)"
   ]
  },
  {
   "cell_type": "code",
   "execution_count": null,
   "metadata": {
    "id": "lQAaAJ4IJEse"
   },
   "outputs": [],
   "source": []
  }
 ],
 "metadata": {
  "colab": {
   "provenance": []
  },
  "kernelspec": {
   "display_name": "fg_env",
   "language": "python",
   "name": "python3"
  },
  "language_info": {
   "codemirror_mode": {
    "name": "ipython",
    "version": 3
   },
   "file_extension": ".py",
   "mimetype": "text/x-python",
   "name": "python",
   "nbconvert_exporter": "python",
   "pygments_lexer": "ipython3",
   "version": "3.10.13"
  }
 },
 "nbformat": 4,
 "nbformat_minor": 0
}
