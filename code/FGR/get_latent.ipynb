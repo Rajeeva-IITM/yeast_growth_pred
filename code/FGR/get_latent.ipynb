{
 "cells": [
  {
   "cell_type": "code",
   "execution_count": null,
   "metadata": {
    "executionInfo": {
     "elapsed": 16274,
     "status": "ok",
     "timestamp": 1704952435062,
     "user": {
      "displayName": "Reguna Madhan Rajeeva Lokshanan bt20d204",
      "userId": "02226610465040792273"
     },
     "user_tz": -330
    },
    "id": "cYouMmoZ-dPN"
   },
   "outputs": [],
   "source": [
    "import os\n",
    "from typing import List\n",
    "\n",
    "import numpy as np\n",
    "import pandas as pd\n",
    "import torch\n",
    "from rdkit.Chem.rdmolfiles import MolFromSmarts\n",
    "from tokenizers import Tokenizer\n",
    "\n",
    "from src.data.components.utils import (\n",
    "    smiles2vector_fg,\n",
    "    smiles2vector_mfg,\n",
    "    standardize_smiles,\n",
    ")\n",
    "from src.models.fgr_module import FGRPretrainLitModule"
   ]
  },
  {
   "cell_type": "code",
   "execution_count": null,
   "metadata": {
    "colab": {
     "base_uri": "https://localhost:8080/"
    },
    "executionInfo": {
     "elapsed": 30236,
     "status": "ok",
     "timestamp": 1704952487050,
     "user": {
      "displayName": "Reguna Madhan Rajeeva Lokshanan bt20d204",
      "userId": "02226610465040792273"
     },
     "user_tz": -330
    },
    "id": "JdZ2f-41-dPT",
    "outputId": "6ad396b5-79d0-42ae-96eb-013a7fadb9f1"
   },
   "outputs": [],
   "source": [
    "model = FGRPretrainLitModule.load_from_checkpoint(\n",
    "    \"/home/rajeeva/Project/outputs/epoch_000_val_0.8505.ckpt\"\n",
    ")\n",
    "model.eval();"
   ]
  },
  {
   "cell_type": "code",
   "execution_count": null,
   "metadata": {
    "executionInfo": {
     "elapsed": 1323,
     "status": "ok",
     "timestamp": 1704952488358,
     "user": {
      "displayName": "Reguna Madhan Rajeeva Lokshanan bt20d204",
      "userId": "02226610465040792273"
     },
     "user_tz": -330
    },
    "id": "-uPBAWgP-dPT"
   },
   "outputs": [],
   "source": [
    "fgroups = pd.read_parquet(\"fg.parquet\")[\"SMARTS\"].tolist()  # Get functional groups\n",
    "fgroups_list = [MolFromSmarts(x) for x in fgroups]  # Convert to RDKit Mol\n",
    "tokenizer = Tokenizer.from_file(\n",
    "    os.path.join(\n",
    "        \"tokenizers\",\n",
    "        f\"BPE_pubchem_{500}.json\",\n",
    "    )\n",
    ")  # Load tokenizer"
   ]
  },
  {
   "cell_type": "code",
   "execution_count": null,
   "metadata": {
    "executionInfo": {
     "elapsed": 9,
     "status": "ok",
     "timestamp": 1704952488359,
     "user": {
      "displayName": "Reguna Madhan Rajeeva Lokshanan bt20d204",
      "userId": "02226610465040792273"
     },
     "user_tz": -330
    },
    "id": "l-Zj0SRw-dPT"
   },
   "outputs": [],
   "source": [
    "def get_representation(\n",
    "    smiles: List[str],\n",
    "    method: str,\n",
    "    fgroups_list: List[MolFromSmarts],\n",
    "    tokenizer: Tokenizer,\n",
    ") -> np.ndarray:\n",
    "    smiles = [standardize_smiles(smi) for smi in smiles]  # Standardize smiles\n",
    "    if method == \"FG\":\n",
    "        x = np.stack([smiles2vector_fg(x, fgroups_list) for x in smiles])\n",
    "    elif method == \"MFG\":\n",
    "        x = np.stack([smiles2vector_mfg(x, tokenizer) for x in smiles])\n",
    "    elif method == \"FGR\":\n",
    "        f_g = np.stack([smiles2vector_fg(x, fgroups_list) for x in smiles])\n",
    "        mfg = np.stack([smiles2vector_mfg(x, tokenizer) for x in smiles])\n",
    "        x = np.concatenate((f_g, mfg), axis=1)  # Concatenate both vectors\n",
    "    else:\n",
    "        raise ValueError(\"Method not supported\")  # Raise error if method not supported\n",
    "    return x"
   ]
  },
  {
   "cell_type": "code",
   "execution_count": null,
   "metadata": {
    "executionInfo": {
     "elapsed": 632,
     "status": "ok",
     "timestamp": 1704952488984,
     "user": {
      "displayName": "Reguna Madhan Rajeeva Lokshanan bt20d204",
      "userId": "02226610465040792273"
     },
     "user_tz": -330
    },
    "id": "_qBDD3ZU-dPU"
   },
   "outputs": [],
   "source": [
    "x = get_representation(\n",
    "    [\"CC(C)(C)NCC(O)c1cc(Cl)c(N)c(c1)C(F)(F)F\", \"CCN\", \"CCF\"], \"FGR\", fgroups_list, tokenizer\n",
    ")\n",
    "x = torch.tensor(x, dtype=torch.float32, device=model.device)\n",
    "z_d = model(x)"
   ]
  },
  {
   "cell_type": "code",
   "execution_count": null,
   "metadata": {
    "colab": {
     "base_uri": "https://localhost:8080/"
    },
    "executionInfo": {
     "elapsed": 10,
     "status": "ok",
     "timestamp": 1704952488984,
     "user": {
      "displayName": "Reguna Madhan Rajeeva Lokshanan bt20d204",
      "userId": "02226610465040792273"
     },
     "user_tz": -330
    },
    "id": "cXV0xpE2KKAh",
    "outputId": "f98f96bc-4e45-4baa-eeba-380758fae3bf"
   },
   "outputs": [],
   "source": [
    "z_d[0].shape"
   ]
  },
  {
   "cell_type": "code",
   "execution_count": null,
   "metadata": {
    "colab": {
     "base_uri": "https://localhost:8080/",
     "height": 424
    },
    "executionInfo": {
     "elapsed": 793,
     "status": "ok",
     "timestamp": 1704952489772,
     "user": {
      "displayName": "Reguna Madhan Rajeeva Lokshanan bt20d204",
      "userId": "02226610465040792273"
     },
     "user_tz": -330
    },
    "id": "4Xj2kF5_EUGO",
    "outputId": "80b9f3a8-70cb-4efa-da04-1548e717e180"
   },
   "outputs": [],
   "source": [
    "df = pd.read_csv(\"../../data/cancer/PRSIM_19Q4_latent_latest.csv\")\n",
    "df"
   ]
  },
  {
   "cell_type": "code",
   "execution_count": null,
   "metadata": {
    "executionInfo": {
     "elapsed": 2,
     "status": "ok",
     "timestamp": 1704952489772,
     "user": {
      "displayName": "Reguna Madhan Rajeeva Lokshanan bt20d204",
      "userId": "02226610465040792273"
     },
     "user_tz": -330
    },
    "id": "fOPKjr9sEaZ2"
   },
   "outputs": [],
   "source": [
    "all_smiles = df[\"smiles_cleaned\"].to_list()"
   ]
  },
  {
   "cell_type": "code",
   "execution_count": null,
   "metadata": {
    "colab": {
     "base_uri": "https://localhost:8080/"
    },
    "executionInfo": {
     "elapsed": 200702,
     "status": "ok",
     "timestamp": 1704952690472,
     "user": {
      "displayName": "Reguna Madhan Rajeeva Lokshanan bt20d204",
      "userId": "02226610465040792273"
     },
     "user_tz": -330
    },
    "id": "M1ixqi_kEx5O",
    "outputId": "e2579e2a-d093-4d6f-f467-99f83dbda662"
   },
   "outputs": [],
   "source": [
    "rep = get_representation(all_smiles, \"FGR\", fgroups_list, tokenizer)"
   ]
  },
  {
   "cell_type": "code",
   "execution_count": null,
   "metadata": {
    "executionInfo": {
     "elapsed": 18,
     "status": "ok",
     "timestamp": 1704952690472,
     "user": {
      "displayName": "Reguna Madhan Rajeeva Lokshanan bt20d204",
      "userId": "02226610465040792273"
     },
     "user_tz": -330
    },
    "id": "XvnB-AW2E2Cm"
   },
   "outputs": [],
   "source": [
    "# rep = []\n",
    "# correct_smiles = []\n",
    "# error = []\n",
    "# for i, smile in enumerate(all_smiles):\n",
    "#     try:\n",
    "#         rep.append(get_representation([smile], \"FGR\", fgroups_list, tokenizer))\n",
    "#         correct_smiles.append(smile)\n",
    "#     except:\n",
    "#         error.append(smile)"
   ]
  },
  {
   "cell_type": "code",
   "execution_count": null,
   "metadata": {
    "colab": {
     "base_uri": "https://localhost:8080/"
    },
    "executionInfo": {
     "elapsed": 16,
     "status": "ok",
     "timestamp": 1704952690473,
     "user": {
      "displayName": "Reguna Madhan Rajeeva Lokshanan bt20d204",
      "userId": "02226610465040792273"
     },
     "user_tz": -330
    },
    "id": "ua_3uiuYG50U",
    "outputId": "4d3b01c9-d289-43de-e9fd-3ddf6eb63a14"
   },
   "outputs": [],
   "source": [
    "rep.shape"
   ]
  },
  {
   "cell_type": "code",
   "execution_count": null,
   "metadata": {
    "executionInfo": {
     "elapsed": 415,
     "status": "ok",
     "timestamp": 1704952711027,
     "user": {
      "displayName": "Reguna Madhan Rajeeva Lokshanan bt20d204",
      "userId": "02226610465040792273"
     },
     "user_tz": -330
    },
    "id": "PlQcU5MOG-ET"
   },
   "outputs": [],
   "source": [
    "# error_df = df[~df['smiles_cleaned'].isin(correct_smiles)]\n",
    "# error_df"
   ]
  },
  {
   "cell_type": "code",
   "execution_count": null,
   "metadata": {
    "colab": {
     "base_uri": "https://localhost:8080/"
    },
    "executionInfo": {
     "elapsed": 8,
     "status": "ok",
     "timestamp": 1704952713823,
     "user": {
      "displayName": "Reguna Madhan Rajeeva Lokshanan bt20d204",
      "userId": "02226610465040792273"
     },
     "user_tz": -330
    },
    "id": "n83b5jyZMbK2",
    "outputId": "68246029-c6a9-4021-f334-c07db6ae0267"
   },
   "outputs": [],
   "source": [
    "len(all_smiles)"
   ]
  },
  {
   "cell_type": "code",
   "execution_count": null,
   "metadata": {
    "executionInfo": {
     "elapsed": 1,
     "status": "ok",
     "timestamp": 1704952715606,
     "user": {
      "displayName": "Reguna Madhan Rajeeva Lokshanan bt20d204",
      "userId": "02226610465040792273"
     },
     "user_tz": -330
    },
    "id": "F_kFffeXkivs"
   },
   "outputs": [],
   "source": [
    "latent_df = pd.DataFrame(data=rep, columns=[f\"chem_{i}\" for i in range(32672)])\n",
    "# latent_df = pd.concat((df[['Condition', 'smiles_cleaned']].dropna(axis=0), latent_df),\n",
    "#   ignore_index=True, axis =1)"
   ]
  },
  {
   "cell_type": "code",
   "execution_count": null,
   "metadata": {
    "colab": {
     "base_uri": "https://localhost:8080/",
     "height": 444
    },
    "executionInfo": {
     "elapsed": 429,
     "status": "ok",
     "timestamp": 1704952721366,
     "user": {
      "displayName": "Reguna Madhan Rajeeva Lokshanan bt20d204",
      "userId": "02226610465040792273"
     },
     "user_tz": -330
    },
    "id": "jZDxqpc8nQVg",
    "outputId": "083ac3ff-ec01-4bd6-8a91-d80ed4d7ff0f"
   },
   "outputs": [],
   "source": [
    "df[[\"Condition\"]].join(latent_df).to_parquet(\n",
    "    \"../../data/cancer/ChemGroup.parquet\", compression=\"zstd\"\n",
    ")"
   ]
  },
  {
   "cell_type": "code",
   "execution_count": null,
   "metadata": {
    "id": "lQAaAJ4IJEse"
   },
   "outputs": [],
   "source": [
    "latent_df[\"chem_1\"].unique()"
   ]
  },
  {
   "cell_type": "code",
   "execution_count": null,
   "metadata": {},
   "outputs": [],
   "source": [
    "import polars as pl\n",
    "\n",
    "pl.read_parquet(\"../../data/cancer/ChemGroup.parquet\").estimated_size(\"mb\")"
   ]
  },
  {
   "cell_type": "code",
   "execution_count": null,
   "metadata": {},
   "outputs": [],
   "source": []
  }
 ],
 "metadata": {
  "colab": {
   "provenance": []
  },
  "kernelspec": {
   "display_name": "fg_env",
   "language": "python",
   "name": "python3"
  },
  "language_info": {
   "codemirror_mode": {
    "name": "ipython",
    "version": 3
   },
   "file_extension": ".py",
   "mimetype": "text/x-python",
   "name": "python",
   "nbconvert_exporter": "python",
   "pygments_lexer": "ipython3",
   "version": "3.11.7"
  }
 },
 "nbformat": 4,
 "nbformat_minor": 0
}
