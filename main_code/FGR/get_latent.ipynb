{
 "cells": [
  {
   "cell_type": "code",
   "execution_count": 1,
   "metadata": {
    "executionInfo": {
     "elapsed": 16274,
     "status": "ok",
     "timestamp": 1704952435062,
     "user": {
      "displayName": "Reguna Madhan Rajeeva Lokshanan bt20d204",
      "userId": "02226610465040792273"
     },
     "user_tz": -330
    },
    "id": "cYouMmoZ-dPN"
   },
   "outputs": [],
   "source": [
    "import os\n",
    "from typing import List\n",
    "\n",
    "import numpy as np\n",
    "import pandas as pd\n",
    "import torch\n",
    "from rdkit.Chem.rdmolfiles import MolFromSmarts\n",
    "from src.data.components.utils import (\n",
    "    smiles2vector_fg,\n",
    "    smiles2vector_mfg,\n",
    "    standardize_smiles,\n",
    ")\n",
    "from src.models.fgr_module import FGRPretrainLitModule\n",
    "from tokenizers import Tokenizer"
   ]
  },
  {
   "cell_type": "code",
   "execution_count": 3,
   "metadata": {},
   "outputs": [],
   "source": [
    "import sys\n",
    "sys.path.append(\"../../\")"
   ]
  },
  {
   "cell_type": "code",
   "execution_count": 4,
   "metadata": {
    "colab": {
     "base_uri": "https://localhost:8080/"
    },
    "executionInfo": {
     "elapsed": 30236,
     "status": "ok",
     "timestamp": 1704952487050,
     "user": {
      "displayName": "Reguna Madhan Rajeeva Lokshanan bt20d204",
      "userId": "02226610465040792273"
     },
     "user_tz": -330
    },
    "id": "JdZ2f-41-dPT",
    "outputId": "6ad396b5-79d0-42ae-96eb-013a7fadb9f1"
   },
   "outputs": [
    {
     "name": "stderr",
     "output_type": "stream",
     "text": [
      "/home/rajeeva/conda/envs/DL/lib/python3.11/site-packages/lightning/pytorch/utilities/parsing.py:198: Attribute 'net' is an instance of `nn.Module` and is already saved during checkpointing. It is recommended to ignore them using `self.save_hyperparameters(ignore=['net'])`.\n",
      "/home/rajeeva/conda/envs/DL/lib/python3.11/site-packages/lightning/pytorch/utilities/parsing.py:198: Attribute 'recon_loss' is an instance of `nn.Module` and is already saved during checkpointing. It is recommended to ignore them using `self.save_hyperparameters(ignore=['recon_loss'])`.\n"
     ]
    }
   ],
   "source": [
    "model = FGRPretrainLitModule.load_from_checkpoint(\n",
    "    \"/home/rajeeva/Project/outputs/epoch_000_val_0.8505.ckpt\"\n",
    ")\n",
    "model.eval();"
   ]
  },
  {
   "cell_type": "code",
   "execution_count": 5,
   "metadata": {
    "executionInfo": {
     "elapsed": 1323,
     "status": "ok",
     "timestamp": 1704952488358,
     "user": {
      "displayName": "Reguna Madhan Rajeeva Lokshanan bt20d204",
      "userId": "02226610465040792273"
     },
     "user_tz": -330
    },
    "id": "-uPBAWgP-dPT"
   },
   "outputs": [],
   "source": [
    "fgroups = pd.read_parquet(\"fg.parquet\")[\"SMARTS\"].tolist()  # Get functional groups\n",
    "fgroups_list = [MolFromSmarts(x) for x in fgroups]  # Convert to RDKit Mol\n",
    "tokenizer = Tokenizer.from_file(\n",
    "    os.path.join(\n",
    "        \"tokenizers\",\n",
    "        f\"BPE_pubchem_{500}.json\",\n",
    "    )\n",
    ")  # Load tokenizer"
   ]
  },
  {
   "cell_type": "code",
   "execution_count": 6,
   "metadata": {
    "executionInfo": {
     "elapsed": 9,
     "status": "ok",
     "timestamp": 1704952488359,
     "user": {
      "displayName": "Reguna Madhan Rajeeva Lokshanan bt20d204",
      "userId": "02226610465040792273"
     },
     "user_tz": -330
    },
    "id": "l-Zj0SRw-dPT"
   },
   "outputs": [],
   "source": [
    "def get_representation(\n",
    "    smiles: List[str],\n",
    "    method: str,\n",
    "    fgroups_list: List[MolFromSmarts],\n",
    "    tokenizer: Tokenizer,\n",
    ") -> np.ndarray:\n",
    "    smiles = [standardize_smiles(smi) for smi in smiles]  # Standardize smiles\n",
    "    if method == \"FG\":\n",
    "        x = np.stack([smiles2vector_fg(x, fgroups_list) for x in smiles])\n",
    "    elif method == \"MFG\":\n",
    "        x = np.stack([smiles2vector_mfg(x, tokenizer) for x in smiles])\n",
    "    elif method == \"FGR\":\n",
    "        f_g = np.stack([smiles2vector_fg(x, fgroups_list) for x in smiles])\n",
    "        mfg = np.stack([smiles2vector_mfg(x, tokenizer) for x in smiles])\n",
    "        x = np.concatenate((f_g, mfg), axis=1)  # Concatenate both vectors\n",
    "    else:\n",
    "        raise ValueError(\"Method not supported\")  # Raise error if method not supported\n",
    "    return x"
   ]
  },
  {
   "cell_type": "code",
   "execution_count": 7,
   "metadata": {
    "executionInfo": {
     "elapsed": 632,
     "status": "ok",
     "timestamp": 1704952488984,
     "user": {
      "displayName": "Reguna Madhan Rajeeva Lokshanan bt20d204",
      "userId": "02226610465040792273"
     },
     "user_tz": -330
    },
    "id": "_qBDD3ZU-dPU"
   },
   "outputs": [],
   "source": [
    "x = get_representation(\n",
    "    [\"CC(C)(C)NCC(O)c1cc(Cl)c(N)c(c1)C(F)(F)F\", \"CCN\", \"CCF\"], \"FGR\", fgroups_list, tokenizer\n",
    ")\n",
    "x = torch.tensor(x, dtype=torch.float32, device=model.device)\n",
    "z_d = model(x)"
   ]
  },
  {
   "cell_type": "code",
   "execution_count": 8,
   "metadata": {
    "colab": {
     "base_uri": "https://localhost:8080/"
    },
    "executionInfo": {
     "elapsed": 10,
     "status": "ok",
     "timestamp": 1704952488984,
     "user": {
      "displayName": "Reguna Madhan Rajeeva Lokshanan bt20d204",
      "userId": "02226610465040792273"
     },
     "user_tz": -330
    },
    "id": "cXV0xpE2KKAh",
    "outputId": "f98f96bc-4e45-4baa-eeba-380758fae3bf"
   },
   "outputs": [
    {
     "data": {
      "text/plain": [
       "torch.Size([3, 256])"
      ]
     },
     "execution_count": 8,
     "metadata": {},
     "output_type": "execute_result"
    }
   ],
   "source": [
    "z_d[0].shape"
   ]
  },
  {
   "cell_type": "code",
   "execution_count": 9,
   "metadata": {
    "colab": {
     "base_uri": "https://localhost:8080/",
     "height": 424
    },
    "executionInfo": {
     "elapsed": 793,
     "status": "ok",
     "timestamp": 1704952489772,
     "user": {
      "displayName": "Reguna Madhan Rajeeva Lokshanan bt20d204",
      "userId": "02226610465040792273"
     },
     "user_tz": -330
    },
    "id": "4Xj2kF5_EUGO",
    "outputId": "80b9f3a8-70cb-4efa-da04-1548e717e180"
   },
   "outputs": [
    {
     "data": {
      "text/html": [
       "<div>\n",
       "<style scoped>\n",
       "    .dataframe tbody tr th:only-of-type {\n",
       "        vertical-align: middle;\n",
       "    }\n",
       "\n",
       "    .dataframe tbody tr th {\n",
       "        vertical-align: top;\n",
       "    }\n",
       "\n",
       "    .dataframe thead th {\n",
       "        text-align: right;\n",
       "    }\n",
       "</style>\n",
       "<table border=\"1\" class=\"dataframe\">\n",
       "  <thead>\n",
       "    <tr style=\"text-align: right;\">\n",
       "      <th></th>\n",
       "      <th>compound_name</th>\n",
       "      <th>SMILES</th>\n",
       "    </tr>\n",
       "  </thead>\n",
       "  <tbody>\n",
       "    <tr>\n",
       "      <th>0</th>\n",
       "      <td>1,3-diallylurea</td>\n",
       "      <td>C1=CC=C2C(=C1)C(=CC(=C2N)N=NC3=CC=C(C=C3)C4=CC...</td>\n",
       "    </tr>\n",
       "    <tr>\n",
       "      <th>1</th>\n",
       "      <td>1,4-dimethylendothall</td>\n",
       "      <td>CC12CCC(O1)(C(C2C(=O)O)C(=O)O)C</td>\n",
       "    </tr>\n",
       "    <tr>\n",
       "      <th>2</th>\n",
       "      <td>1,7-octadiene</td>\n",
       "      <td>C=CCCCCC=C</td>\n",
       "    </tr>\n",
       "    <tr>\n",
       "      <th>3</th>\n",
       "      <td>1,8-nonadiene</td>\n",
       "      <td>C=CCCCCCC=C</td>\n",
       "    </tr>\n",
       "    <tr>\n",
       "      <th>4</th>\n",
       "      <td>2-cyanoethyl acrylate</td>\n",
       "      <td>C=CC(=O)OCCC#N</td>\n",
       "    </tr>\n",
       "    <tr>\n",
       "      <th>...</th>\n",
       "      <td>...</td>\n",
       "      <td>...</td>\n",
       "    </tr>\n",
       "    <tr>\n",
       "      <th>146</th>\n",
       "      <td>fluorocytosine</td>\n",
       "      <td>C1=NC(=O)NC(=C1F)N</td>\n",
       "    </tr>\n",
       "    <tr>\n",
       "      <th>147</th>\n",
       "      <td>hydroquinone</td>\n",
       "      <td>C1=CC(=CC=C1O)O</td>\n",
       "    </tr>\n",
       "    <tr>\n",
       "      <th>148</th>\n",
       "      <td>copper</td>\n",
       "      <td>[Cu]</td>\n",
       "    </tr>\n",
       "    <tr>\n",
       "      <th>149</th>\n",
       "      <td>CaCl2</td>\n",
       "      <td>[Cl-].[Cl-].[Ca+2]</td>\n",
       "    </tr>\n",
       "    <tr>\n",
       "      <th>150</th>\n",
       "      <td>ammonium_sulphate</td>\n",
       "      <td>[NH4+].[NH4+].[O-]S(=O)(=O)[O-]</td>\n",
       "    </tr>\n",
       "  </tbody>\n",
       "</table>\n",
       "<p>151 rows × 2 columns</p>\n",
       "</div>"
      ],
      "text/plain": [
       "             compound_name                                             SMILES\n",
       "0          1,3-diallylurea  C1=CC=C2C(=C1)C(=CC(=C2N)N=NC3=CC=C(C=C3)C4=CC...\n",
       "1    1,4-dimethylendothall                    CC12CCC(O1)(C(C2C(=O)O)C(=O)O)C\n",
       "2            1,7-octadiene                                         C=CCCCCC=C\n",
       "3            1,8-nonadiene                                        C=CCCCCCC=C\n",
       "4    2-cyanoethyl acrylate                                     C=CC(=O)OCCC#N\n",
       "..                     ...                                                ...\n",
       "146         fluorocytosine                                 C1=NC(=O)NC(=C1F)N\n",
       "147           hydroquinone                                    C1=CC(=CC=C1O)O\n",
       "148                 copper                                               [Cu]\n",
       "149                  CaCl2                                 [Cl-].[Cl-].[Ca+2]\n",
       "150      ammonium_sulphate                    [NH4+].[NH4+].[O-]S(=O)(=O)[O-]\n",
       "\n",
       "[151 rows x 2 columns]"
      ]
     },
     "execution_count": 9,
     "metadata": {},
     "output_type": "execute_result"
    }
   ],
   "source": [
    "df = pd.read_csv(\"./smiles_cleaned.csv\")\n",
    "df"
   ]
  },
  {
   "cell_type": "code",
   "execution_count": 10,
   "metadata": {
    "executionInfo": {
     "elapsed": 2,
     "status": "ok",
     "timestamp": 1704952489772,
     "user": {
      "displayName": "Reguna Madhan Rajeeva Lokshanan bt20d204",
      "userId": "02226610465040792273"
     },
     "user_tz": -330
    },
    "id": "fOPKjr9sEaZ2"
   },
   "outputs": [],
   "source": [
    "# all_smiles = df[\"smiles_cleaned\"].to_list()\n",
    "all_smiles = df['SMILES'].to_list()"
   ]
  },
  {
   "cell_type": "code",
   "execution_count": 11,
   "metadata": {
    "colab": {
     "base_uri": "https://localhost:8080/"
    },
    "executionInfo": {
     "elapsed": 200702,
     "status": "ok",
     "timestamp": 1704952690472,
     "user": {
      "displayName": "Reguna Madhan Rajeeva Lokshanan bt20d204",
      "userId": "02226610465040792273"
     },
     "user_tz": -330
    },
    "id": "M1ixqi_kEx5O",
    "outputId": "e2579e2a-d093-4d6f-f467-99f83dbda662"
   },
   "outputs": [],
   "source": [
    "rep = get_representation(all_smiles, \"FGR\", fgroups_list, tokenizer)"
   ]
  },
  {
   "cell_type": "code",
   "execution_count": 12,
   "metadata": {
    "colab": {
     "base_uri": "https://localhost:8080/"
    },
    "executionInfo": {
     "elapsed": 16,
     "status": "ok",
     "timestamp": 1704952690473,
     "user": {
      "displayName": "Reguna Madhan Rajeeva Lokshanan bt20d204",
      "userId": "02226610465040792273"
     },
     "user_tz": -330
    },
    "id": "ua_3uiuYG50U",
    "outputId": "4d3b01c9-d289-43de-e9fd-3ddf6eb63a14"
   },
   "outputs": [
    {
     "data": {
      "text/plain": [
       "(151, 32672)"
      ]
     },
     "execution_count": 12,
     "metadata": {},
     "output_type": "execute_result"
    }
   ],
   "source": [
    "rep.shape"
   ]
  },
  {
   "cell_type": "code",
   "execution_count": 13,
   "metadata": {
    "colab": {
     "base_uri": "https://localhost:8080/"
    },
    "executionInfo": {
     "elapsed": 8,
     "status": "ok",
     "timestamp": 1704952713823,
     "user": {
      "displayName": "Reguna Madhan Rajeeva Lokshanan bt20d204",
      "userId": "02226610465040792273"
     },
     "user_tz": -330
    },
    "id": "n83b5jyZMbK2",
    "outputId": "68246029-c6a9-4021-f334-c07db6ae0267"
   },
   "outputs": [
    {
     "data": {
      "text/plain": [
       "151"
      ]
     },
     "execution_count": 13,
     "metadata": {},
     "output_type": "execute_result"
    }
   ],
   "source": [
    "len(all_smiles)"
   ]
  },
  {
   "cell_type": "code",
   "execution_count": 24,
   "metadata": {},
   "outputs": [],
   "source": [
    "z = model(torch.from_numpy(rep).to(model.device))"
   ]
  },
  {
   "cell_type": "code",
   "execution_count": 26,
   "metadata": {},
   "outputs": [
    {
     "data": {
      "text/plain": [
       "torch.Size([151, 256])"
      ]
     },
     "execution_count": 26,
     "metadata": {},
     "output_type": "execute_result"
    }
   ],
   "source": [
    "z[0].shape"
   ]
  },
  {
   "cell_type": "code",
   "execution_count": 28,
   "metadata": {},
   "outputs": [],
   "source": [
    "latent_df = pd.DataFrame(data=z[0].cpu().detach().numpy(), columns=[f\"latent_{i}\" for i in range(256)])  "
   ]
  },
  {
   "cell_type": "code",
   "execution_count": 31,
   "metadata": {},
   "outputs": [],
   "source": [
    "latent_df = df[['compound_name']].rename(columns={'compound_name': 'Condition'}).join(latent_df)"
   ]
  },
  {
   "cell_type": "code",
   "execution_count": 33,
   "metadata": {},
   "outputs": [],
   "source": [
    "# latent_df.to_csv(\"../../../data/latent_pubchem_256.csv\", index=False)"
   ]
  },
  {
   "cell_type": "code",
   "execution_count": 14,
   "metadata": {
    "executionInfo": {
     "elapsed": 1,
     "status": "ok",
     "timestamp": 1704952715606,
     "user": {
      "displayName": "Reguna Madhan Rajeeva Lokshanan bt20d204",
      "userId": "02226610465040792273"
     },
     "user_tz": -330
    },
    "id": "F_kFffeXkivs"
   },
   "outputs": [],
   "source": [
    "latent_df = pd.DataFrame(data=rep, columns=[f\"chem_{i}\" for i in range(32672)])\n",
    "# latent_df = pd.concat((df[['Condition', 'smiles_cleaned']].dropna(axis=0), latent_df),\n",
    "#   ignore_index=True, axis =1)"
   ]
  },
  {
   "cell_type": "code",
   "execution_count": null,
   "metadata": {
    "colab": {
     "base_uri": "https://localhost:8080/",
     "height": 444
    },
    "executionInfo": {
     "elapsed": 429,
     "status": "ok",
     "timestamp": 1704952721366,
     "user": {
      "displayName": "Reguna Madhan Rajeeva Lokshanan bt20d204",
      "userId": "02226610465040792273"
     },
     "user_tz": -330
    },
    "id": "jZDxqpc8nQVg",
    "outputId": "083ac3ff-ec01-4bd6-8a91-d80ed4d7ff0f"
   },
   "outputs": [],
   "source": [
    "df[[\"Condition\"]].join(latent_df).to_parquet(\n",
    "    \"../../data/cancer/ChemGroup.parquet\", compression=\"zstd\"\n",
    ")"
   ]
  },
  {
   "cell_type": "code",
   "execution_count": 15,
   "metadata": {
    "id": "lQAaAJ4IJEse"
   },
   "outputs": [
    {
     "data": {
      "text/plain": [
       "array([0.], dtype=float32)"
      ]
     },
     "execution_count": 15,
     "metadata": {},
     "output_type": "execute_result"
    }
   ],
   "source": [
    "latent_df[\"chem_1\"].unique()"
   ]
  },
  {
   "cell_type": "code",
   "execution_count": 20,
   "metadata": {},
   "outputs": [
    {
     "name": "stdout",
     "output_type": "stream",
     "text": [
      "Help on built-in function from_numpy in module torch:\n",
      "\n",
      "from_numpy(...)\n",
      "    from_numpy(ndarray) -> Tensor\n",
      "    \n",
      "    Creates a :class:`Tensor` from a :class:`numpy.ndarray`.\n",
      "    \n",
      "    The returned tensor and :attr:`ndarray` share the same memory. Modifications to\n",
      "    the tensor will be reflected in the :attr:`ndarray` and vice versa. The returned\n",
      "    tensor is not resizable.\n",
      "    \n",
      "    It currently accepts :attr:`ndarray` with dtypes of ``numpy.float64``,\n",
      "    ``numpy.float32``, ``numpy.float16``, ``numpy.complex64``, ``numpy.complex128``,\n",
      "    ``numpy.int64``, ``numpy.int32``, ``numpy.int16``, ``numpy.int8``, ``numpy.uint8``,\n",
      "    and ``numpy.bool``.\n",
      "    \n",
      "    .. warning::\n",
      "        Writing to a tensor created from a read-only NumPy array is not supported and will result in undefined behavior.\n",
      "    \n",
      "    Example::\n",
      "    \n",
      "        >>> a = numpy.array([1, 2, 3])\n",
      "        >>> t = torch.from_numpy(a)\n",
      "        >>> t\n",
      "        tensor([ 1,  2,  3])\n",
      "        >>> t[0] = -1\n",
      "        >>> a\n",
      "        array([-1,  2,  3])\n",
      "\n"
     ]
    }
   ],
   "source": [
    "help(torch.from_numpy)"
   ]
  },
  {
   "cell_type": "code",
   "execution_count": null,
   "metadata": {},
   "outputs": [],
   "source": []
  }
 ],
 "metadata": {
  "colab": {
   "provenance": []
  },
  "kernelspec": {
   "display_name": "fg_env",
   "language": "python",
   "name": "python3"
  },
  "language_info": {
   "codemirror_mode": {
    "name": "ipython",
    "version": 3
   },
   "file_extension": ".py",
   "mimetype": "text/x-python",
   "name": "python",
   "nbconvert_exporter": "python",
   "pygments_lexer": "ipython3",
   "version": "3.11.7"
  }
 },
 "nbformat": 4,
 "nbformat_minor": 0
}
